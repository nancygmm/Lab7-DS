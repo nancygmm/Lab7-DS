{
 "cells": [
  {
   "cell_type": "markdown",
   "id": "fb0da09e",
   "metadata": {},
   "source": [
    "# Laboratorio 7\n",
    "\n",
    "### Predicción de datos con AutoGluon\n",
    "----\n",
    "\n",
    "Nancy Mazariegos 22513\n",
    "\n",
    "Santiago Pereira 22318\n",
    "\n",
    "----"
   ]
  },
  {
   "cell_type": "markdown",
   "id": "5ce6688a",
   "metadata": {},
   "source": [
    "### Descripción:\n",
    "El objetivo de este ejercicio es construir, entrenar y evaluar un modelo clasificador\n",
    "para predecir diabetes en pacientes usando AutoGluon. Además de la práctica\n",
    "técnica, se busca reflexionar sobre las ventajas, limitaciones y aplicaciones del\n",
    "AutoML en problemas del mundo real, especialmente en contextos de salud donde\n",
    "la interpretación y confiabilidad de los resultados son fundamentales.\n",
    "\n",
    "----\n"
   ]
  },
  {
   "cell_type": "markdown",
   "id": "3780c7be",
   "metadata": {},
   "source": [
    "### 1. Carga del Conjunto de Datos"
   ]
  }
 ],
 "metadata": {
  "language_info": {
   "name": "python"
  }
 },
 "nbformat": 4,
 "nbformat_minor": 5
}
